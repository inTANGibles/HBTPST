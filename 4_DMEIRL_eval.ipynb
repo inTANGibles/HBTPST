{
 "cells": [
  {
   "cell_type": "code",
   "execution_count": null,
   "metadata": {},
   "outputs": [
    {
     "name": "stderr",
     "output_type": "stream",
     "text": [
      "\n",
      "A module that was compiled using NumPy 1.x cannot be run in\n",
      "NumPy 2.0.2 as it may crash. To support both 1.x and 2.x\n",
      "versions of NumPy, modules must be compiled with NumPy 2.0.\n",
      "Some module may need to rebuild instead e.g. with 'pybind11>=2.12'.\n",
      "\n",
      "If you are a user of the module, the easiest solution will be to\n",
      "downgrade to 'numpy<2' or try to upgrade the affected module.\n",
      "We expect that some modules will need time to support NumPy 2.\n",
      "\n",
      "Traceback (most recent call last):  File \"d:\\STUDY\\anaconda3\\envs\\meirlenv\\lib\\runpy.py\", line 197, in _run_module_as_main\n",
      "    return _run_code(code, main_globals, None,\n",
      "  File \"d:\\STUDY\\anaconda3\\envs\\meirlenv\\lib\\runpy.py\", line 87, in _run_code\n",
      "    exec(code, run_globals)\n",
      "  File \"d:\\STUDY\\anaconda3\\envs\\meirlenv\\lib\\site-packages\\ipykernel_launcher.py\", line 18, in <module>\n",
      "    app.launch_new_instance()\n",
      "  File \"d:\\STUDY\\anaconda3\\envs\\meirlenv\\lib\\site-packages\\traitlets\\config\\application.py\", line 1075, in launch_instance\n",
      "    app.start()\n",
      "  File \"d:\\STUDY\\anaconda3\\envs\\meirlenv\\lib\\site-packages\\ipykernel\\kernelapp.py\", line 739, in start\n",
      "    self.io_loop.start()\n",
      "  File \"d:\\STUDY\\anaconda3\\envs\\meirlenv\\lib\\site-packages\\tornado\\platform\\asyncio.py\", line 205, in start\n",
      "    self.asyncio_loop.run_forever()\n",
      "  File \"d:\\STUDY\\anaconda3\\envs\\meirlenv\\lib\\asyncio\\base_events.py\", line 601, in run_forever\n",
      "    self._run_once()\n",
      "  File \"d:\\STUDY\\anaconda3\\envs\\meirlenv\\lib\\asyncio\\base_events.py\", line 1905, in _run_once\n",
      "    handle._run()\n",
      "  File \"d:\\STUDY\\anaconda3\\envs\\meirlenv\\lib\\asyncio\\events.py\", line 80, in _run\n",
      "    self._context.run(self._callback, *self._args)\n",
      "  File \"d:\\STUDY\\anaconda3\\envs\\meirlenv\\lib\\site-packages\\ipykernel\\kernelbase.py\", line 545, in dispatch_queue\n",
      "    await self.process_one()\n",
      "  File \"d:\\STUDY\\anaconda3\\envs\\meirlenv\\lib\\site-packages\\ipykernel\\kernelbase.py\", line 534, in process_one\n",
      "    await dispatch(*args)\n",
      "  File \"d:\\STUDY\\anaconda3\\envs\\meirlenv\\lib\\site-packages\\ipykernel\\kernelbase.py\", line 437, in dispatch_shell\n",
      "    await result\n",
      "  File \"d:\\STUDY\\anaconda3\\envs\\meirlenv\\lib\\site-packages\\ipykernel\\ipkernel.py\", line 362, in execute_request\n",
      "    await super().execute_request(stream, ident, parent)\n",
      "  File \"d:\\STUDY\\anaconda3\\envs\\meirlenv\\lib\\site-packages\\ipykernel\\kernelbase.py\", line 778, in execute_request\n",
      "    reply_content = await reply_content\n",
      "  File \"d:\\STUDY\\anaconda3\\envs\\meirlenv\\lib\\site-packages\\ipykernel\\ipkernel.py\", line 449, in do_execute\n",
      "    res = shell.run_cell(\n",
      "  File \"d:\\STUDY\\anaconda3\\envs\\meirlenv\\lib\\site-packages\\ipykernel\\zmqshell.py\", line 549, in run_cell\n",
      "    return super().run_cell(*args, **kwargs)\n",
      "  File \"d:\\STUDY\\anaconda3\\envs\\meirlenv\\lib\\site-packages\\IPython\\core\\interactiveshell.py\", line 3048, in run_cell\n",
      "    result = self._run_cell(\n",
      "  File \"d:\\STUDY\\anaconda3\\envs\\meirlenv\\lib\\site-packages\\IPython\\core\\interactiveshell.py\", line 3103, in _run_cell\n",
      "    result = runner(coro)\n",
      "  File \"d:\\STUDY\\anaconda3\\envs\\meirlenv\\lib\\site-packages\\IPython\\core\\async_helpers.py\", line 129, in _pseudo_sync_runner\n",
      "    coro.send(None)\n",
      "  File \"d:\\STUDY\\anaconda3\\envs\\meirlenv\\lib\\site-packages\\IPython\\core\\interactiveshell.py\", line 3308, in run_cell_async\n",
      "    has_raised = await self.run_ast_nodes(code_ast.body, cell_name,\n",
      "  File \"d:\\STUDY\\anaconda3\\envs\\meirlenv\\lib\\site-packages\\IPython\\core\\interactiveshell.py\", line 3490, in run_ast_nodes\n",
      "    if await self.run_code(code, result, async_=asy):\n",
      "  File \"d:\\STUDY\\anaconda3\\envs\\meirlenv\\lib\\site-packages\\IPython\\core\\interactiveshell.py\", line 3550, in run_code\n",
      "    exec(code_obj, self.user_global_ns, self.user_ns)\n",
      "  File \"C:\\Users\\Elena\\AppData\\Local\\Temp\\ipykernel_26076\\4254171121.py\", line 2, in <module>\n",
      "    from grid_world.envGen_grid_world import GridWorld_envGen\n",
      "  File \"d:\\Architecture\\AAA-Master\\24Fall\\MEDIRL_Rural_Revitalization\\Human Behavior Trajectory Prediction Simulation Tool in Village Transformation\\grid_world\\envGen_grid_world.py\", line 7, in <module>\n",
      "    from DMEIRL.value_iteration import value_iteration\n",
      "  File \"d:\\Architecture\\AAA-Master\\24Fall\\MEDIRL_Rural_Revitalization\\Human Behavior Trajectory Prediction Simulation Tool in Village Transformation\\DMEIRL\\value_iteration.py\", line 1, in <module>\n",
      "    import torch\n",
      "  File \"d:\\STUDY\\anaconda3\\envs\\meirlenv\\lib\\site-packages\\torch\\__init__.py\", line 643, in <module>\n",
      "    from .functional import *  # noqa: F403\n",
      "  File \"d:\\STUDY\\anaconda3\\envs\\meirlenv\\lib\\site-packages\\torch\\functional.py\", line 6, in <module>\n",
      "    import torch.nn.functional as F\n",
      "  File \"d:\\STUDY\\anaconda3\\envs\\meirlenv\\lib\\site-packages\\torch\\nn\\__init__.py\", line 1, in <module>\n",
      "    from .modules import *  # noqa: F403\n",
      "  File \"d:\\STUDY\\anaconda3\\envs\\meirlenv\\lib\\site-packages\\torch\\nn\\modules\\__init__.py\", line 2, in <module>\n",
      "    from .linear import Identity, Linear, Bilinear, LazyLinear\n",
      "  File \"d:\\STUDY\\anaconda3\\envs\\meirlenv\\lib\\site-packages\\torch\\nn\\modules\\linear.py\", line 6, in <module>\n",
      "    from .. import functional as F\n",
      "  File \"d:\\STUDY\\anaconda3\\envs\\meirlenv\\lib\\site-packages\\torch\\nn\\functional.py\", line 11, in <module>\n",
      "    from .._jit_internal import boolean_dispatch, _overload, BroadcastingList1, BroadcastingList2, BroadcastingList3\n",
      "  File \"d:\\STUDY\\anaconda3\\envs\\meirlenv\\lib\\site-packages\\torch\\_jit_internal.py\", line 28, in <module>\n",
      "    import torch.package._mangling as package_mangling\n",
      "  File \"d:\\STUDY\\anaconda3\\envs\\meirlenv\\lib\\site-packages\\torch\\package\\__init__.py\", line 12, in <module>\n",
      "    from .package_importer import PackageImporter\n",
      "  File \"d:\\STUDY\\anaconda3\\envs\\meirlenv\\lib\\site-packages\\torch\\package\\package_importer.py\", line 16, in <module>\n",
      "    from ._directory_reader import DirectoryReader\n",
      "  File \"d:\\STUDY\\anaconda3\\envs\\meirlenv\\lib\\site-packages\\torch\\package\\_directory_reader.py\", line 17, in <module>\n",
      "    _dtype_to_storage = {data_type(0).dtype: data_type for data_type in _storages}\n",
      "  File \"d:\\STUDY\\anaconda3\\envs\\meirlenv\\lib\\site-packages\\torch\\package\\_directory_reader.py\", line 17, in <dictcomp>\n",
      "    _dtype_to_storage = {data_type(0).dtype: data_type for data_type in _storages}\n",
      "d:\\STUDY\\anaconda3\\envs\\meirlenv\\lib\\site-packages\\torch\\package\\_directory_reader.py:17: UserWarning: Failed to initialize NumPy: _ARRAY_API not found (Triggered internally at  ..\\torch\\csrc\\utils\\tensor_numpy.cpp:68.)\n",
      "  _dtype_to_storage = {data_type(0).dtype: data_type for data_type in _storages}\n",
      "d:\\STUDY\\anaconda3\\envs\\meirlenv\\lib\\site-packages\\tqdm\\auto.py:21: TqdmWarning: IProgress not found. Please update jupyter and ipywidgets. See https://ipywidgets.readthedocs.io/en/stable/user_install.html\n",
      "  from .autonotebook import tqdm as notebook_tqdm\n"
     ]
    }
   ],
   "source": [
    "import pandas as pd\n",
    "from grid_world.envGen_grid_world import GridWorld_envGen\n",
    "from DMEIRL.DeepMEIRL_FC import DMEIRL\n",
    "%load_ext autoreload\n",
    "%autoreload 2"
   ]
  },
  {
   "cell_type": "markdown",
   "metadata": {},
   "source": [
    "# Figure 15(a): 2D Rewards\n",
    "An attempt was made to simulate the values of REWARDS using the RELU and TANH functions as output functions and to derive the simulated expert trajectories (notation)"
   ]
  },
  {
   "cell_type": "code",
   "execution_count": null,
   "metadata": {},
   "outputs": [
    {
     "ename": "RuntimeError",
     "evalue": "CUDA error: out of memory\nCUDA kernel errors might be asynchronously reported at some other API call,so the stacktrace below might be incorrect.\nFor debugging consider passing CUDA_LAUNCH_BLOCKING=1.",
     "output_type": "error",
     "traceback": [
      "\u001b[1;31m---------------------------------------------------------------------------\u001b[0m",
      "\u001b[1;31mRuntimeError\u001b[0m                              Traceback (most recent call last)",
      "Cell \u001b[1;32mIn[2], line 6\u001b[0m\n\u001b[0;32m      3\u001b[0m \u001b[38;5;66;03m#model_path = 'train/0227/0227(60,120,120,240,240,120,60)lr0.00005/model_deep_irl_fc_epoch293_mse2.277986526489258_0227.pth'\u001b[39;00m\n\u001b[0;32m      4\u001b[0m \u001b[38;5;66;03m#model_path = 'train/0225/model_deep_irl_fc_epoch298_mse2.461331367492676_0225.pth'\u001b[39;00m\n\u001b[0;32m      5\u001b[0m model_path \u001b[38;5;241m=\u001b[39m \u001b[38;5;124mr\u001b[39m\u001b[38;5;124m'\u001b[39m\u001b[38;5;124mtrain\u001b[39m\u001b[38;5;124m\\\u001b[39m\u001b[38;5;124m0313\u001b[39m\u001b[38;5;124m\\\u001b[39m\u001b[38;5;124m0313tanh_bias0_v0.001_tp0.8_dis0.95_lr0.0001_wd0.5_clip-1_l(60, 120, 240, 240, 240, 120, 60)\u001b[39m\u001b[38;5;124m\\\u001b[39m\u001b[38;5;124mmodel_deep_irl_fc_epoch598_mse0.8991738557815552_0313.pth\u001b[39m\u001b[38;5;124m'\u001b[39m\n\u001b[1;32m----> 6\u001b[0m world \u001b[38;5;241m=\u001b[39m \u001b[43mGridWorld_envGen\u001b[49m\u001b[43m(\u001b[49m\n\u001b[0;32m      7\u001b[0m \u001b[43m    \u001b[49m\u001b[43mwidth\u001b[49m\u001b[38;5;241;43m=\u001b[39;49m\u001b[38;5;241;43m40\u001b[39;49m\u001b[43m,\u001b[49m\u001b[43mheight\u001b[49m\u001b[38;5;241;43m=\u001b[39;49m\u001b[38;5;241;43m30\u001b[39;49m\u001b[43m,\u001b[49m\n\u001b[0;32m      8\u001b[0m \u001b[43m    \u001b[49m\u001b[43menvs_img_folder_path\u001b[49m\u001b[38;5;241;43m=\u001b[39;49m\u001b[43menv_folder_path\u001b[49m\u001b[43m,\u001b[49m\n\u001b[0;32m      9\u001b[0m \u001b[43m    \u001b[49m\u001b[43mexperts_traj_filePath\u001b[49m\u001b[38;5;241;43m=\u001b[39;49m\u001b[43mexpert_traj_path\u001b[49m\u001b[43m,\u001b[49m\n\u001b[0;32m     10\u001b[0m \u001b[43m    \u001b[49m\u001b[43mmodel_path\u001b[49m\u001b[38;5;241;43m=\u001b[39;49m\u001b[43mmodel_path\u001b[49m\u001b[43m,\u001b[49m\n\u001b[0;32m     11\u001b[0m \u001b[43m    \u001b[49m\u001b[43mmodel_n_input\u001b[49m\u001b[38;5;241;43m=\u001b[39;49m\u001b[38;5;241;43m30\u001b[39;49m\u001b[43m,\u001b[49m\n\u001b[0;32m     12\u001b[0m \u001b[43m    \u001b[49m\u001b[43mmodel_layers\u001b[49m\u001b[38;5;241;43m=\u001b[39;49m\u001b[43m(\u001b[49m\u001b[38;5;241;43m60\u001b[39;49m\u001b[43m,\u001b[49m\u001b[43m \u001b[49m\u001b[38;5;241;43m120\u001b[39;49m\u001b[43m,\u001b[49m\u001b[43m \u001b[49m\u001b[38;5;241;43m240\u001b[39;49m\u001b[43m,\u001b[49m\u001b[43m \u001b[49m\u001b[38;5;241;43m240\u001b[39;49m\u001b[43m,\u001b[49m\u001b[43m \u001b[49m\u001b[38;5;241;43m240\u001b[39;49m\u001b[43m,\u001b[49m\u001b[43m \u001b[49m\u001b[38;5;241;43m120\u001b[39;49m\u001b[43m,\u001b[49m\u001b[43m \u001b[49m\u001b[38;5;241;43m60\u001b[39;49m\u001b[43m)\u001b[49m\u001b[43m,\u001b[49m\n\u001b[0;32m     13\u001b[0m \u001b[43m    \u001b[49m\u001b[43mtrans_prob\u001b[49m\u001b[38;5;241;43m=\u001b[39;49m\u001b[38;5;241;43m0.8\u001b[39;49m\u001b[43m,\u001b[49m\n\u001b[0;32m     14\u001b[0m \u001b[43m    \u001b[49m\u001b[43mdiscount\u001b[49m\u001b[38;5;241;43m=\u001b[39;49m\u001b[38;5;241;43m0.95\u001b[39;49m\n\u001b[0;32m     15\u001b[0m \u001b[43m)\u001b[49m\n",
      "File \u001b[1;32md:\\Architecture\\AAA-Master\\24Fall\\MEDIRL_Rural_Revitalization\\Human Behavior Trajectory Prediction Simulation Tool in Village Transformation\\grid_world\\envGen_grid_world.py:45\u001b[0m, in \u001b[0;36mGridWorld_envGen.__init__\u001b[1;34m(self, width, height, envs_img_folder_path, experts_traj_filePath, model_path, model_n_input, model_layers, target_svf_delta, trans_prob, discount)\u001b[0m\n\u001b[0;32m     42\u001b[0m \u001b[38;5;28mself\u001b[39m\u001b[38;5;241m.\u001b[39mheight \u001b[38;5;241m=\u001b[39m height\n\u001b[0;32m     44\u001b[0m model \u001b[38;5;241m=\u001b[39m DeepMEIRL_FC(n_input\u001b[38;5;241m=\u001b[39mmodel_n_input,layers\u001b[38;5;241m=\u001b[39mmodel_layers)\n\u001b[1;32m---> 45\u001b[0m \u001b[43mmodel\u001b[49m\u001b[38;5;241;43m.\u001b[39;49m\u001b[43mto\u001b[49m\u001b[43m(\u001b[49m\u001b[43mdevice\u001b[49m\u001b[43m)\u001b[49m\n\u001b[0;32m     46\u001b[0m model\u001b[38;5;241m.\u001b[39mload_state_dict(torch\u001b[38;5;241m.\u001b[39mload(model_path,map_location\u001b[38;5;241m=\u001b[39m\u001b[38;5;124m'\u001b[39m\u001b[38;5;124mcuda:0\u001b[39m\u001b[38;5;124m'\u001b[39m))\n\u001b[0;32m     47\u001b[0m model\u001b[38;5;241m.\u001b[39meval()\n",
      "File \u001b[1;32md:\\STUDY\\anaconda3\\envs\\meirlenv\\lib\\site-packages\\torch\\nn\\modules\\module.py:899\u001b[0m, in \u001b[0;36mModule.to\u001b[1;34m(self, *args, **kwargs)\u001b[0m\n\u001b[0;32m    895\u001b[0m         \u001b[38;5;28;01mreturn\u001b[39;00m t\u001b[38;5;241m.\u001b[39mto(device, dtype \u001b[38;5;28;01mif\u001b[39;00m t\u001b[38;5;241m.\u001b[39mis_floating_point() \u001b[38;5;129;01mor\u001b[39;00m t\u001b[38;5;241m.\u001b[39mis_complex() \u001b[38;5;28;01melse\u001b[39;00m \u001b[38;5;28;01mNone\u001b[39;00m,\n\u001b[0;32m    896\u001b[0m                     non_blocking, memory_format\u001b[38;5;241m=\u001b[39mconvert_to_format)\n\u001b[0;32m    897\u001b[0m     \u001b[38;5;28;01mreturn\u001b[39;00m t\u001b[38;5;241m.\u001b[39mto(device, dtype \u001b[38;5;28;01mif\u001b[39;00m t\u001b[38;5;241m.\u001b[39mis_floating_point() \u001b[38;5;129;01mor\u001b[39;00m t\u001b[38;5;241m.\u001b[39mis_complex() \u001b[38;5;28;01melse\u001b[39;00m \u001b[38;5;28;01mNone\u001b[39;00m, non_blocking)\n\u001b[1;32m--> 899\u001b[0m \u001b[38;5;28;01mreturn\u001b[39;00m \u001b[38;5;28;43mself\u001b[39;49m\u001b[38;5;241;43m.\u001b[39;49m\u001b[43m_apply\u001b[49m\u001b[43m(\u001b[49m\u001b[43mconvert\u001b[49m\u001b[43m)\u001b[49m\n",
      "File \u001b[1;32md:\\STUDY\\anaconda3\\envs\\meirlenv\\lib\\site-packages\\torch\\nn\\modules\\module.py:570\u001b[0m, in \u001b[0;36mModule._apply\u001b[1;34m(self, fn)\u001b[0m\n\u001b[0;32m    568\u001b[0m \u001b[38;5;28;01mdef\u001b[39;00m \u001b[38;5;21m_apply\u001b[39m(\u001b[38;5;28mself\u001b[39m, fn):\n\u001b[0;32m    569\u001b[0m     \u001b[38;5;28;01mfor\u001b[39;00m module \u001b[38;5;129;01min\u001b[39;00m \u001b[38;5;28mself\u001b[39m\u001b[38;5;241m.\u001b[39mchildren():\n\u001b[1;32m--> 570\u001b[0m         \u001b[43mmodule\u001b[49m\u001b[38;5;241;43m.\u001b[39;49m\u001b[43m_apply\u001b[49m\u001b[43m(\u001b[49m\u001b[43mfn\u001b[49m\u001b[43m)\u001b[49m\n\u001b[0;32m    572\u001b[0m     \u001b[38;5;28;01mdef\u001b[39;00m \u001b[38;5;21mcompute_should_use_set_data\u001b[39m(tensor, tensor_applied):\n\u001b[0;32m    573\u001b[0m         \u001b[38;5;28;01mif\u001b[39;00m torch\u001b[38;5;241m.\u001b[39m_has_compatible_shallow_copy_type(tensor, tensor_applied):\n\u001b[0;32m    574\u001b[0m             \u001b[38;5;66;03m# If the new tensor has compatible tensor type as the existing tensor,\u001b[39;00m\n\u001b[0;32m    575\u001b[0m             \u001b[38;5;66;03m# the current behavior is to change the tensor in-place using `.data =`,\u001b[39;00m\n\u001b[1;32m   (...)\u001b[0m\n\u001b[0;32m    580\u001b[0m             \u001b[38;5;66;03m# global flag to let the user control whether they want the future\u001b[39;00m\n\u001b[0;32m    581\u001b[0m             \u001b[38;5;66;03m# behavior of overwriting the existing tensor or not.\u001b[39;00m\n",
      "File \u001b[1;32md:\\STUDY\\anaconda3\\envs\\meirlenv\\lib\\site-packages\\torch\\nn\\modules\\module.py:570\u001b[0m, in \u001b[0;36mModule._apply\u001b[1;34m(self, fn)\u001b[0m\n\u001b[0;32m    568\u001b[0m \u001b[38;5;28;01mdef\u001b[39;00m \u001b[38;5;21m_apply\u001b[39m(\u001b[38;5;28mself\u001b[39m, fn):\n\u001b[0;32m    569\u001b[0m     \u001b[38;5;28;01mfor\u001b[39;00m module \u001b[38;5;129;01min\u001b[39;00m \u001b[38;5;28mself\u001b[39m\u001b[38;5;241m.\u001b[39mchildren():\n\u001b[1;32m--> 570\u001b[0m         \u001b[43mmodule\u001b[49m\u001b[38;5;241;43m.\u001b[39;49m\u001b[43m_apply\u001b[49m\u001b[43m(\u001b[49m\u001b[43mfn\u001b[49m\u001b[43m)\u001b[49m\n\u001b[0;32m    572\u001b[0m     \u001b[38;5;28;01mdef\u001b[39;00m \u001b[38;5;21mcompute_should_use_set_data\u001b[39m(tensor, tensor_applied):\n\u001b[0;32m    573\u001b[0m         \u001b[38;5;28;01mif\u001b[39;00m torch\u001b[38;5;241m.\u001b[39m_has_compatible_shallow_copy_type(tensor, tensor_applied):\n\u001b[0;32m    574\u001b[0m             \u001b[38;5;66;03m# If the new tensor has compatible tensor type as the existing tensor,\u001b[39;00m\n\u001b[0;32m    575\u001b[0m             \u001b[38;5;66;03m# the current behavior is to change the tensor in-place using `.data =`,\u001b[39;00m\n\u001b[1;32m   (...)\u001b[0m\n\u001b[0;32m    580\u001b[0m             \u001b[38;5;66;03m# global flag to let the user control whether they want the future\u001b[39;00m\n\u001b[0;32m    581\u001b[0m             \u001b[38;5;66;03m# behavior of overwriting the existing tensor or not.\u001b[39;00m\n",
      "File \u001b[1;32md:\\STUDY\\anaconda3\\envs\\meirlenv\\lib\\site-packages\\torch\\nn\\modules\\module.py:593\u001b[0m, in \u001b[0;36mModule._apply\u001b[1;34m(self, fn)\u001b[0m\n\u001b[0;32m    589\u001b[0m \u001b[38;5;66;03m# Tensors stored in modules are graph leaves, and we don't want to\u001b[39;00m\n\u001b[0;32m    590\u001b[0m \u001b[38;5;66;03m# track autograd history of `param_applied`, so we have to use\u001b[39;00m\n\u001b[0;32m    591\u001b[0m \u001b[38;5;66;03m# `with torch.no_grad():`\u001b[39;00m\n\u001b[0;32m    592\u001b[0m \u001b[38;5;28;01mwith\u001b[39;00m torch\u001b[38;5;241m.\u001b[39mno_grad():\n\u001b[1;32m--> 593\u001b[0m     param_applied \u001b[38;5;241m=\u001b[39m \u001b[43mfn\u001b[49m\u001b[43m(\u001b[49m\u001b[43mparam\u001b[49m\u001b[43m)\u001b[49m\n\u001b[0;32m    594\u001b[0m should_use_set_data \u001b[38;5;241m=\u001b[39m compute_should_use_set_data(param, param_applied)\n\u001b[0;32m    595\u001b[0m \u001b[38;5;28;01mif\u001b[39;00m should_use_set_data:\n",
      "File \u001b[1;32md:\\STUDY\\anaconda3\\envs\\meirlenv\\lib\\site-packages\\torch\\nn\\modules\\module.py:897\u001b[0m, in \u001b[0;36mModule.to.<locals>.convert\u001b[1;34m(t)\u001b[0m\n\u001b[0;32m    894\u001b[0m \u001b[38;5;28;01mif\u001b[39;00m convert_to_format \u001b[38;5;129;01mis\u001b[39;00m \u001b[38;5;129;01mnot\u001b[39;00m \u001b[38;5;28;01mNone\u001b[39;00m \u001b[38;5;129;01mand\u001b[39;00m t\u001b[38;5;241m.\u001b[39mdim() \u001b[38;5;129;01min\u001b[39;00m (\u001b[38;5;241m4\u001b[39m, \u001b[38;5;241m5\u001b[39m):\n\u001b[0;32m    895\u001b[0m     \u001b[38;5;28;01mreturn\u001b[39;00m t\u001b[38;5;241m.\u001b[39mto(device, dtype \u001b[38;5;28;01mif\u001b[39;00m t\u001b[38;5;241m.\u001b[39mis_floating_point() \u001b[38;5;129;01mor\u001b[39;00m t\u001b[38;5;241m.\u001b[39mis_complex() \u001b[38;5;28;01melse\u001b[39;00m \u001b[38;5;28;01mNone\u001b[39;00m,\n\u001b[0;32m    896\u001b[0m                 non_blocking, memory_format\u001b[38;5;241m=\u001b[39mconvert_to_format)\n\u001b[1;32m--> 897\u001b[0m \u001b[38;5;28;01mreturn\u001b[39;00m \u001b[43mt\u001b[49m\u001b[38;5;241;43m.\u001b[39;49m\u001b[43mto\u001b[49m\u001b[43m(\u001b[49m\u001b[43mdevice\u001b[49m\u001b[43m,\u001b[49m\u001b[43m \u001b[49m\u001b[43mdtype\u001b[49m\u001b[43m \u001b[49m\u001b[38;5;28;43;01mif\u001b[39;49;00m\u001b[43m \u001b[49m\u001b[43mt\u001b[49m\u001b[38;5;241;43m.\u001b[39;49m\u001b[43mis_floating_point\u001b[49m\u001b[43m(\u001b[49m\u001b[43m)\u001b[49m\u001b[43m \u001b[49m\u001b[38;5;129;43;01mor\u001b[39;49;00m\u001b[43m \u001b[49m\u001b[43mt\u001b[49m\u001b[38;5;241;43m.\u001b[39;49m\u001b[43mis_complex\u001b[49m\u001b[43m(\u001b[49m\u001b[43m)\u001b[49m\u001b[43m \u001b[49m\u001b[38;5;28;43;01melse\u001b[39;49;00m\u001b[43m \u001b[49m\u001b[38;5;28;43;01mNone\u001b[39;49;00m\u001b[43m,\u001b[49m\u001b[43m \u001b[49m\u001b[43mnon_blocking\u001b[49m\u001b[43m)\u001b[49m\n",
      "\u001b[1;31mRuntimeError\u001b[0m: CUDA error: out of memory\nCUDA kernel errors might be asynchronously reported at some other API call,so the stacktrace below might be incorrect.\nFor debugging consider passing CUDA_LAUNCH_BLOCKING=1."
     ]
    }
   ],
   "source": [
    "\n",
    "env_folder_path = 'wifi_track_data/dacang/grid_data/env_imgs/40_30'\n",
    "expert_traj_path = \"wifi_track_data/dacang/track_data/trajs_sliced_0229_40x30.csv\"\n",
    "#model_path = 'train/0227/0227(60,120,120,240,240,120,60)lr0.00005/model_deep_irl_fc_epoch293_mse2.277986526489258_0227.pth'\n",
    "#model_path = 'train/0225/model_deep_irl_fc_epoch298_mse2.461331367492676_0225.pth'\n",
    "model_path = r'train\\0313\\0313tanh_bias0_v0.001_tp0.8_dis0.95_lr0.0001_wd0.5_clip-1_l(60, 120, 240, 240, 240, 120, 60)\\model_deep_irl_fc_epoch598_mse0.8991738557815552_0313.pth'\n",
    "world = GridWorld_envGen(\n",
    "    width=40,height=30,\n",
    "    envs_img_folder_path=env_folder_path,\n",
    "    experts_traj_filePath=expert_traj_path,\n",
    "    model_path=model_path,\n",
    "    model_n_input=30,\n",
    "    model_layers=(60, 120, 240, 240, 240, 120, 60),\n",
    "    trans_prob=0.8,\n",
    "    discount=0.95\n",
    ")"
   ]
  },
  {
   "cell_type": "code",
   "execution_count": null,
   "metadata": {},
   "outputs": [
    {
     "ename": "NameError",
     "evalue": "name 'GridWorld_envGen' is not defined",
     "output_type": "error",
     "traceback": [
      "\u001b[1;31m---------------------------------------------------------------------------\u001b[0m",
      "\u001b[1;31mNameError\u001b[0m                                 Traceback (most recent call last)",
      "Cell \u001b[1;32mIn[1], line 6\u001b[0m\n\u001b[0;32m      3\u001b[0m \u001b[38;5;66;03m#model_path = 'train/0227/0227(60,120,120,240,240,120,60)lr0.00005/model_deep_irl_fc_epoch293_mse2.277986526489258_0227.pth'\u001b[39;00m\n\u001b[0;32m      4\u001b[0m \u001b[38;5;66;03m#model_path = 'train/0225/model_deep_irl_fc_epoch298_mse2.461331367492676_0225.pth'\u001b[39;00m\n\u001b[0;32m      5\u001b[0m model_path \u001b[38;5;241m=\u001b[39m \u001b[38;5;124mr\u001b[39m\u001b[38;5;124m'\u001b[39m\u001b[38;5;124mtrain\u001b[39m\u001b[38;5;124m\\\u001b[39m\u001b[38;5;124m0314\u001b[39m\u001b[38;5;124m\\\u001b[39m\u001b[38;5;124m0314relu_bias0_v0.001_tp0.8_dis0.95_lr1e-05_wd0.2_clip-1_l(60, 120, 240, 240, 240, 120, 60)\u001b[39m\u001b[38;5;124m\\\u001b[39m\u001b[38;5;124mmodel_deep_irl_fc_epoch504_mse0.8446582555770874_0314.pth\u001b[39m\u001b[38;5;124m'\u001b[39m\n\u001b[1;32m----> 6\u001b[0m world \u001b[38;5;241m=\u001b[39m \u001b[43mGridWorld_envGen\u001b[49m(\n\u001b[0;32m      7\u001b[0m     width\u001b[38;5;241m=\u001b[39m\u001b[38;5;241m40\u001b[39m,height\u001b[38;5;241m=\u001b[39m\u001b[38;5;241m30\u001b[39m,\n\u001b[0;32m      8\u001b[0m     envs_img_folder_path\u001b[38;5;241m=\u001b[39menv_folder_path,\n\u001b[0;32m      9\u001b[0m     experts_traj_filePath\u001b[38;5;241m=\u001b[39mexpert_traj_path,\n\u001b[0;32m     10\u001b[0m     model_path\u001b[38;5;241m=\u001b[39mmodel_path,\n\u001b[0;32m     11\u001b[0m     model_n_input\u001b[38;5;241m=\u001b[39m\u001b[38;5;241m30\u001b[39m,\n\u001b[0;32m     12\u001b[0m     model_layers\u001b[38;5;241m=\u001b[39m(\u001b[38;5;241m60\u001b[39m, \u001b[38;5;241m120\u001b[39m, \u001b[38;5;241m240\u001b[39m, \u001b[38;5;241m240\u001b[39m, \u001b[38;5;241m240\u001b[39m, \u001b[38;5;241m120\u001b[39m, \u001b[38;5;241m60\u001b[39m),\n\u001b[0;32m     13\u001b[0m     trans_prob\u001b[38;5;241m=\u001b[39m\u001b[38;5;241m0.8\u001b[39m,\n\u001b[0;32m     14\u001b[0m     discount\u001b[38;5;241m=\u001b[39m\u001b[38;5;241m0.95\u001b[39m\n\u001b[0;32m     15\u001b[0m )\n",
      "\u001b[1;31mNameError\u001b[0m: name 'GridWorld_envGen' is not defined"
     ]
    }
   ],
   "source": [
    "env_folder_path = 'wifi_track_data/dacang/grid_data/env_imgs/40_30'\n",
    "expert_traj_path = \"wifi_track_data/dacang/track_data/trajs_sliced_0229_40x30.csv\"\n",
    "#model_path = 'train/0227/0227(60,120,120,240,240,120,60)lr0.00005/model_deep_irl_fc_epoch293_mse2.277986526489258_0227.pth'\n",
    "#model_path = 'train/0225/model_deep_irl_fc_epoch298_mse2.461331367492676_0225.pth'\n",
    "model_path = r'train\\0314\\0314relu_bias0_v0.001_tp0.8_dis0.95_lr1e-05_wd0.2_clip-1_l(60, 120, 240, 240, 240, 120, 60)\\model_deep_irl_fc_epoch504_mse0.8446582555770874_0314.pth'\n",
    "world = GridWorld_envGen(\n",
    "    width=40,height=30,\n",
    "    envs_img_folder_path=env_folder_path,\n",
    "    experts_traj_filePath=expert_traj_path,\n",
    "    model_path=model_path,\n",
    "    model_n_input=30,\n",
    "    model_layers=(60, 120, 240, 240, 240, 120, 60),\n",
    "    trans_prob=0.8,\n",
    "    discount=0.95\n",
    ")"
   ]
  },
  {
   "cell_type": "code",
   "execution_count": null,
   "metadata": {},
   "outputs": [
    {
     "ename": "NameError",
     "evalue": "name 'world' is not defined",
     "output_type": "error",
     "traceback": [
      "\u001b[1;31m---------------------------------------------------------------------------\u001b[0m",
      "\u001b[1;31mNameError\u001b[0m                                 Traceback (most recent call last)",
      "Cell \u001b[1;32mIn[3], line 1\u001b[0m\n\u001b[1;32m----> 1\u001b[0m \u001b[43mworld\u001b[49m\u001b[38;5;241m.\u001b[39mRefreshInitState()\n",
      "\u001b[1;31mNameError\u001b[0m: name 'world' is not defined"
     ]
    }
   ],
   "source": [
    "world.RefreshInitState()"
   ]
  },
  {
   "cell_type": "code",
   "execution_count": null,
   "metadata": {},
   "outputs": [
    {
     "ename": "NameError",
     "evalue": "name 'world' is not defined",
     "output_type": "error",
     "traceback": [
      "\u001b[1;31m---------------------------------------------------------------------------\u001b[0m",
      "\u001b[1;31mNameError\u001b[0m                                 Traceback (most recent call last)",
      "Cell \u001b[1;32mIn[3], line 1\u001b[0m\n\u001b[1;32m----> 1\u001b[0m \u001b[43mworld\u001b[49m\u001b[38;5;241m.\u001b[39mShowSVFOrigin()\n",
      "\u001b[1;31mNameError\u001b[0m: name 'world' is not defined"
     ]
    }
   ],
   "source": [
    "world.ShowSVFOrigin()"
   ]
  },
  {
   "cell_type": "code",
   "execution_count": null,
   "metadata": {},
   "outputs": [
    {
     "ename": "NameError",
     "evalue": "name 'world' is not defined",
     "output_type": "error",
     "traceback": [
      "\u001b[1;31m---------------------------------------------------------------------------\u001b[0m",
      "\u001b[1;31mNameError\u001b[0m                                 Traceback (most recent call last)",
      "Cell \u001b[1;32mIn[5], line 1\u001b[0m\n\u001b[1;32m----> 1\u001b[0m \u001b[43mworld\u001b[49m\u001b[38;5;241m.\u001b[39mShowGridWorld_Activated()\n",
      "\u001b[1;31mNameError\u001b[0m: name 'world' is not defined"
     ]
    }
   ],
   "source": [
    "world.ShowGridWorld_Activated()"
   ]
  },
  {
   "cell_type": "code",
   "execution_count": null,
   "metadata": {},
   "outputs": [
    {
     "ename": "NameError",
     "evalue": "name 'world' is not defined",
     "output_type": "error",
     "traceback": [
      "\u001b[1;31m---------------------------------------------------------------------------\u001b[0m",
      "\u001b[1;31mNameError\u001b[0m                                 Traceback (most recent call last)",
      "Cell \u001b[1;32mIn[4], line 1\u001b[0m\n\u001b[1;32m----> 1\u001b[0m \u001b[43mworld\u001b[49m\u001b[38;5;241m.\u001b[39mShowGridWorld_Count_log()\n",
      "\u001b[1;31mNameError\u001b[0m: name 'world' is not defined"
     ]
    }
   ],
   "source": [
    "world.ShowGridWorld_Count_log()"
   ]
  },
  {
   "cell_type": "code",
   "execution_count": null,
   "metadata": {},
   "outputs": [
    {
     "ename": "NameError",
     "evalue": "name 'world' is not defined",
     "output_type": "error",
     "traceback": [
      "\u001b[1;31m---------------------------------------------------------------------------\u001b[0m",
      "\u001b[1;31mNameError\u001b[0m                                 Traceback (most recent call last)",
      "Cell \u001b[1;32mIn[6], line 1\u001b[0m\n\u001b[1;32m----> 1\u001b[0m \u001b[43mworld\u001b[49m\u001b[38;5;241m.\u001b[39mGenerateTrajs(\u001b[38;5;241m50\u001b[39m,\u001b[38;5;241m30\u001b[39m,save\u001b[38;5;241m=\u001b[39m\u001b[38;5;28;01mFalse\u001b[39;00m)\n",
      "\u001b[1;31mNameError\u001b[0m: name 'world' is not defined"
     ]
    }
   ],
   "source": [
    "world.GenerateTrajs(50,30,save=False)"
   ]
  },
  {
   "cell_type": "code",
   "execution_count": null,
   "metadata": {},
   "outputs": [
    {
     "ename": "NameError",
     "evalue": "name 'world' is not defined",
     "output_type": "error",
     "traceback": [
      "\u001b[1;31m---------------------------------------------------------------------------\u001b[0m",
      "\u001b[1;31mNameError\u001b[0m                                 Traceback (most recent call last)",
      "Cell \u001b[1;32mIn[7], line 1\u001b[0m\n\u001b[1;32m----> 1\u001b[0m \u001b[43mworld\u001b[49m\u001b[38;5;241m.\u001b[39mPrintTrajs(\u001b[38;5;241m20\u001b[39m)\n",
      "\u001b[1;31mNameError\u001b[0m: name 'world' is not defined"
     ]
    }
   ],
   "source": [
    "world.PrintTrajs(20)"
   ]
  }
 ],
 "metadata": {
  "kernelspec": {
   "display_name": "meirlenv",
   "language": "python",
   "name": "python3"
  },
  "language_info": {
   "codemirror_mode": {
    "name": "ipython",
    "version": 3
   },
   "file_extension": ".py",
   "mimetype": "text/x-python",
   "name": "python",
   "nbconvert_exporter": "python",
   "pygments_lexer": "ipython3",
   "version": "3.9.20"
  }
 },
 "nbformat": 4,
 "nbformat_minor": 2
}
